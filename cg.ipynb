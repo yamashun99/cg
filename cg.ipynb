{
 "cells": [
  {
   "cell_type": "code",
   "execution_count": 104,
   "metadata": {},
   "outputs": [],
   "source": [
    "import numpy as np"
   ]
  },
  {
   "cell_type": "code",
   "execution_count": 105,
   "metadata": {},
   "outputs": [
    {
     "name": "stdout",
     "output_type": "stream",
     "text": [
      "[[10.  9.  8.  7.  6.  5.  4.  3.  2.  1.]\n",
      " [ 9. 10.  9.  8.  7.  6.  5.  4.  3.  2.]\n",
      " [ 8.  9. 10.  9.  8.  7.  6.  5.  4.  3.]\n",
      " [ 7.  8.  9. 10.  9.  8.  7.  6.  5.  4.]\n",
      " [ 6.  7.  8.  9. 10.  9.  8.  7.  6.  5.]\n",
      " [ 5.  6.  7.  8.  9. 10.  9.  8.  7.  6.]\n",
      " [ 4.  5.  6.  7.  8.  9. 10.  9.  8.  7.]\n",
      " [ 3.  4.  5.  6.  7.  8.  9. 10.  9.  8.]\n",
      " [ 2.  3.  4.  5.  6.  7.  8.  9. 10.  9.]\n",
      " [ 1.  2.  3.  4.  5.  6.  7.  8.  9. 10.]]\n"
     ]
    }
   ],
   "source": [
    "N = 10\n",
    "A = np.zeros((N, N))\n",
    "for i in range(N):\n",
    "    for j in range(N):\n",
    "        A[i, j] = N - abs(i - j)\n",
    "print(A)\n",
    "b = np.random.rand(N)"
   ]
  },
  {
   "cell_type": "code",
   "execution_count": 106,
   "metadata": {},
   "outputs": [],
   "source": [
    "# xk = np.random.rand(N)\n",
    "xk = np.zeros(N)\n",
    "rk = b - A @ xk\n",
    "pk = rk"
   ]
  },
  {
   "cell_type": "code",
   "execution_count": 107,
   "metadata": {},
   "outputs": [
    {
     "name": "stdout",
     "output_type": "stream",
     "text": [
      "0.608603144686226\n",
      "0.5179844128625519\n",
      "0.5133493980411516\n",
      "0.15992177433317112\n",
      "0.07925584641269648\n",
      "0.01984266261076\n",
      "0.002704773247863872\n",
      "0.000286642856245171\n",
      "0.00016431614562921774\n",
      "4.403946475586563e-05\n",
      "3.0941352346013586e-08\n",
      "8.482971281777647e-14\n",
      "1.851625162628314e-16\n",
      "4.463775731957922e-16\n",
      "2.85264486463587e-17\n",
      "2.629937436063299e-19\n",
      "1.5759426572061083e-19\n",
      "4.894957013397722e-20\n",
      "7.350852628039277e-21\n",
      "1.4083483996340381e-22\n"
     ]
    }
   ],
   "source": [
    "for i in range(20):\n",
    "    alpha = np.dot(rk, pk) / np.dot(pk, A @ pk)\n",
    "    xk1 = xk + alpha * pk\n",
    "    # rk1 = b - A @ xk1\n",
    "    rk1 = rk - alpha * A @ pk\n",
    "    beta = -np.dot(rk1, A @ pk) / np.dot(pk, A @ pk)\n",
    "    pk1 = rk1 + beta * pk\n",
    "    rk = rk1\n",
    "    pk = pk1\n",
    "    xk = xk1\n",
    "    print(np.linalg.norm(rk1))"
   ]
  },
  {
   "cell_type": "code",
   "execution_count": null,
   "metadata": {},
   "outputs": [],
   "source": []
  }
 ],
 "metadata": {
  "kernelspec": {
   "display_name": "physicsenv",
   "language": "python",
   "name": "python3"
  },
  "language_info": {
   "codemirror_mode": {
    "name": "ipython",
    "version": 3
   },
   "file_extension": ".py",
   "mimetype": "text/x-python",
   "name": "python",
   "nbconvert_exporter": "python",
   "pygments_lexer": "ipython3",
   "version": "3.10.12"
  }
 },
 "nbformat": 4,
 "nbformat_minor": 2
}
