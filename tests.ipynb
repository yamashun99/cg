{
 "cells": [
  {
   "cell_type": "code",
   "execution_count": 12,
   "metadata": {},
   "outputs": [],
   "source": [
    "import numpy as np\n",
    "from scipy.sparse.linalg import cg"
   ]
  },
  {
   "cell_type": "code",
   "execution_count": 13,
   "metadata": {},
   "outputs": [],
   "source": [
    "N = 100\n",
    "A = np.random.rand(N, N)\n",
    "A = A @ A.T\n",
    "b = np.random.rand(N)"
   ]
  },
  {
   "cell_type": "code",
   "execution_count": 14,
   "metadata": {},
   "outputs": [
    {
     "name": "stderr",
     "output_type": "stream",
     "text": [
      "/tmp/ipykernel_904525/2478498882.py:1: DeprecationWarning: 'scipy.sparse.linalg.cg' keyword argument `tol` is deprecated in favor of `rtol` and will be removed in SciPy v1.14.0. Until then, if set, it will override `rtol`.\n",
      "  x, info = cg(A, b, tol=1e-10)\n"
     ]
    }
   ],
   "source": [
    "x, info = cg(A, b, tol=1e-10)"
   ]
  },
  {
   "cell_type": "code",
   "execution_count": 15,
   "metadata": {},
   "outputs": [
    {
     "data": {
      "text/plain": [
       "array([ 922.80690448, -129.44156624, -237.61837911,  190.53515177,\n",
       "         24.47068295, -241.69922942,   20.28116229, -455.63289763,\n",
       "        345.99434045,  -84.2396449 , -401.85097865,   97.23078923,\n",
       "         23.49448743,  524.90098554,  425.02585826, -669.87178228,\n",
       "       -257.65560829,  735.12828814, -210.70190992, -780.23879366,\n",
       "       -625.5684242 ,  419.96258921, -249.10089923, -558.46175236,\n",
       "        315.94754599,  -30.44499886,  -17.80524035,  376.25541702,\n",
       "        -33.75461185,  516.69172042, 1240.1654852 ,  -21.34272757,\n",
       "        -58.74131408,  219.24273629,  348.42385997,  115.35187751,\n",
       "        133.99514667,  142.78550778,  305.81486023,  174.33970042,\n",
       "       -754.31835053,  616.44673451, -518.10439717,  375.07919861,\n",
       "        -32.40329818,  -89.5616566 , -107.32185962, -122.01017527,\n",
       "       -112.51376481,  251.54105951, -234.46059966,  806.13645354,\n",
       "        270.00289155, -411.71684968, -189.71825404,  339.65360862,\n",
       "         57.05971838,  253.26860378,  208.82718078,  239.85003741,\n",
       "        251.73775301,  445.16865123, -304.12865497,  147.51309124,\n",
       "         31.39232623,   35.07547655, -139.0528075 , -427.86730283,\n",
       "       -422.54383222, -664.38422816,  -29.2776887 , -680.45294172,\n",
       "       -367.83767739,  299.0692899 , -423.98914701,  493.78803134,\n",
       "        -31.06145677,   44.48707429,    3.09399091, -388.84077258,\n",
       "        339.20906172,   53.28741379,  427.67561181, -266.74744873,\n",
       "       -327.52384802, -810.66580798, -332.14351904,  302.11456307,\n",
       "        275.96424654, -496.72169866,  564.37197126, -181.92434974,\n",
       "       -374.97516338, -627.07242158,    8.40664977,  -40.01422006,\n",
       "       -310.27309089,  -82.57043265,  234.14092616,  154.13995029])"
      ]
     },
     "execution_count": 15,
     "metadata": {},
     "output_type": "execute_result"
    }
   ],
   "source": [
    "x"
   ]
  },
  {
   "cell_type": "code",
   "execution_count": 16,
   "metadata": {},
   "outputs": [
    {
     "data": {
      "text/plain": [
       "6.709690531866018e-10"
      ]
     },
     "execution_count": 16,
     "metadata": {},
     "output_type": "execute_result"
    }
   ],
   "source": [
    "np.linalg.norm(A @ x - b)"
   ]
  }
 ],
 "metadata": {
  "kernelspec": {
   "display_name": "physicsenv",
   "language": "python",
   "name": "python3"
  },
  "language_info": {
   "codemirror_mode": {
    "name": "ipython",
    "version": 3
   },
   "file_extension": ".py",
   "mimetype": "text/x-python",
   "name": "python",
   "nbconvert_exporter": "python",
   "pygments_lexer": "ipython3",
   "version": "3.10.12"
  }
 },
 "nbformat": 4,
 "nbformat_minor": 2
}
